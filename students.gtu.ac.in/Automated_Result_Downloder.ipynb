{
  "nbformat": 4,
  "nbformat_minor": 0,
  "metadata": {
    "colab": {
      "name": "Automated Result Downloder",
      "private_outputs": true,
      "provenance": [],
      "collapsed_sections": []
    },
    "kernelspec": {
      "name": "python3",
      "display_name": "Python 3"
    },
    "language_info": {
      "name": "python"
    },
    "accelerator": "GPU"
  },
  "cells": [
    {
      "cell_type": "markdown",
      "source": [
        "Install tesseract"
      ],
      "metadata": {
        "id": "FFYAh381exh4"
      }
    },
    {
      "cell_type": "code",
      "source": [
        "!sudo apt install tesseract-ocr\n",
        "!pip install pytesseract"
      ],
      "metadata": {
        "id": "2_AwFU5SQ5lT"
      },
      "execution_count": null,
      "outputs": []
    },
    {
      "cell_type": "markdown",
      "source": [
        "install selenium\n",
        "and\n",
        "chrome driver (also define path)"
      ],
      "metadata": {
        "id": "-lYAwjJwe4Oa"
      }
    },
    {
      "cell_type": "code",
      "source": [
        "!pip install selenium\n",
        "!apt-get update # to update ubuntu to correctly run apt install\n",
        "!apt install chromium-chromedriver\n",
        "!cp /usr/lib/chromium-browser/chromedriver /usr/bin\n",
        "import sys\n",
        "sys.path.insert(0,'/usr/lib/chromium-browser/chromedriver')"
      ],
      "metadata": {
        "id": "rjyqtRrYewxu"
      },
      "execution_count": null,
      "outputs": []
    },
    {
      "cell_type": "markdown",
      "source": [
        "import dependancies"
      ],
      "metadata": {
        "id": "QQovnVXAfNbx"
      }
    },
    {
      "cell_type": "code",
      "source": [
        "from selenium import webdriver\n",
        "from selenium.webdriver.common.by import By\n",
        "from selenium.webdriver.common.keys import Keys\n",
        "from selenium.webdriver.chrome.service import Service\n",
        "from PIL import Image, ImageCms, ImageOps, ImageFilter\n",
        "import numpy as np\n",
        "import pytesseract\n",
        "import shutil\n",
        "import cv2\n",
        "import time"
      ],
      "metadata": {
        "id": "RhvflwoJfMZZ"
      },
      "execution_count": null,
      "outputs": []
    },
    {
      "cell_type": "markdown",
      "source": [
        "helper functions"
      ],
      "metadata": {
        "id": "T2jcfxOqfdvk"
      }
    },
    {
      "cell_type": "code",
      "source": [
        "def step1():\n",
        "\t# open webpage\n",
        "\tdriver.get(URL)\n",
        "\n",
        "\t# save img\n",
        "\timdata = driver.find_element(By.ID,\"imgCaptcha\")\n",
        "\twith open(path, 'wb') as file:\n",
        "\t    file.write(imdata.screenshot_as_png)\n",
        "\n",
        "def step2():\n",
        "\t# convert to inverted mask and save\n",
        "\tim = cv2.imread(path)\n",
        "\tgray = cv2.cvtColor(im, cv2.COLOR_BGR2GRAY)\n",
        "\tthresh = cv2.threshold(gray, 0, 255, cv2.THRESH_BINARY_INV + cv2.THRESH_OTSU)[1]\n",
        "\thorizontal_kernel = cv2.getStructuringElement(cv2.MORPH_RECT, (25, 1))\n",
        "\tMask = cv2.morphologyEx(thresh, cv2.MORPH_OPEN,horizontal_kernel, iterations=2)\n",
        "\t#Mask = cv2.bitwise_not(Mask)\n",
        "\tcv2.imwrite(\"old.png\", Mask)\n",
        "\n",
        "\t# reinvert mask\n",
        "\timg = Image.open(\"old.png\")\n",
        "\timg = img.convert(\"RGBA\")\n",
        "\tdatas = img.getdata()\n",
        "\tnewData = []\n",
        "\tfor item in datas:\n",
        "\t    if item[0] == 0 and item[1] == 0 and item[2] == 0:\n",
        "\t        newData.append((255, 255, 255, 0))\n",
        "\t    else:\n",
        "\t        newData.append(item)\n",
        "\timg.putdata(newData)\n",
        "\n",
        "\t# paste mask on img and save new img\n",
        "\tbackground = Image.open(path)\n",
        "\tbackground = background.convert(\"RGBA\")\n",
        "\tbackground.paste(img,mask=img)\n",
        "\tbackground.save(\"new.png\",\"PNG\")\n",
        "\n",
        "def step3(im): # solve captcha\n",
        "\tim = Image.open(im)\n",
        "\tim = im.crop((5,5,115,35))\n",
        "\trgb = ImageCms.createProfile(colorSpace='sRGB')\n",
        "\tlab = ImageCms.createProfile(colorSpace='LAB')\n",
        "\ttransform = ImageCms.buildTransform(inputProfile=rgb, outputProfile=lab, inMode='RGB', outMode='LAB')\n",
        "\tlab_im = ImageCms.applyTransform(im=im, transform=transform)\n",
        "\tl, a, b = lab_im.split()\n",
        "\tim=l\n",
        "\tim = im.filter(ImageFilter.MinFilter(3))\n",
        "\tresult = pytesseract.image_to_string(im)\n",
        "\tl=[]\n",
        "\tl.append(result.strip())\n",
        "\tif l[0]==\" \" or l[0]==\"\":\n",
        "\t\tstep1()\n",
        "\t\tstep2()\n",
        "\t\tl[0]=step3(\"new.png\")\n",
        "\treturn l[0]\n",
        "\n",
        "def step4(enroll,fname): # print webpage\n",
        "\tenr = driver.find_element(By.ID,\"txtEnrollNo\")\n",
        "\tcaptex = driver.find_element(By.ID,\"CodeNumberTextBox\")\n",
        "\tenr.send_keys(enroll)\n",
        "\tcaptex.send_keys(ans)\n",
        "\tcaptex.send_keys(Keys.RETURN)\n",
        "\tS = lambda X: driver.execute_script('return document.body.parentNode.scroll'+X)\n",
        "\tdriver.set_window_size(S('Width'),S('Height'))                                                                                                              \n",
        "\tdriver.find_element(By.TAG_NAME,\"body\").screenshot(fname)\n",
        "\t#driver.quit()\n",
        "\t#time.sleep(5)"
      ],
      "metadata": {
        "id": "CZzPcPOQfceO"
      },
      "execution_count": null,
      "outputs": []
    },
    {
      "cell_type": "markdown",
      "source": [
        "main function"
      ],
      "metadata": {
        "id": "5QIu2udZgKKq"
      }
    },
    {
      "cell_type": "code",
      "source": [
        "chrome_options = webdriver.ChromeOptions()\n",
        "chrome_options.add_argument('--headless')\n",
        "chrome_options.add_argument('--no-sandbox')\n",
        "chrome_options.add_argument('--disable-dev-shm-usage')\n",
        "chrome_options.add_argument(\"--incognito\")\n",
        "\n",
        "ser = Service(\"chromedriver\")\n",
        "driver = webdriver.Chrome(service=ser,options=chrome_options)\n",
        "\n",
        "URL = \"https://www.students.gtu.ac.in/\"\n",
        "path=\"cap.jpg\"\n",
        "\n",
        "for i in range(31,33+1): # 31 to 33\n",
        "\tenroll = \"1902801110{}\".format(i)\n",
        "\tfname = \"./outputs/1902801110{}.png\".format(i)\n",
        "\tstep1()\n",
        "\tstep2()\n",
        "\tans=step3(\"new.png\")\n",
        "\tstep4(enroll,fname)"
      ],
      "metadata": {
        "id": "DhotsfiLfJS9"
      },
      "execution_count": null,
      "outputs": []
    }
  ]
}